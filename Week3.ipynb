{
 "cells": [
  {
   "cell_type": "code",
   "execution_count": 13,
   "metadata": {},
   "outputs": [
    {
     "data": {
      "text/plain": [
       "103"
      ]
     },
     "execution_count": 13,
     "metadata": {},
     "output_type": "execute_result"
    }
   ],
   "source": [
    "import pandas as pd\n",
    "import numpy as np\n",
    "import requests\n",
    "\n",
    "from bs4 import BeautifulSoup\n",
    "\n",
    "\n",
    "url = requests.get('https://en.wikipedia.org/wiki/List_of_postal_codes_of_Canada:_M').text\n",
    "\n",
    "soup = BeautifulSoup(url, 'html.parser')\n",
    "\n",
    "postal_codes_dict = {} # initialize an empty dictionary to save the data in\n",
    "for table_cell in soup.find_all('td'):\n",
    "    try:\n",
    "        postal_code = table_cell.p.b.text # get the postal code\n",
    "        postal_code_investigate = table_cell.span.text\n",
    "        neighborhoods_data = table_cell.span.text # get the rest of the data in the cell\n",
    "        borough = neighborhoods_data.split('(')[0] # get the borough in the cell\n",
    "        \n",
    "        # if the cell is not assigned then ignore it\n",
    "        if neighborhoods_data == 'Not assigned':\n",
    "            neighborhoods = []\n",
    "        # else process the data and add it to the dictionary\n",
    "        else:\n",
    "            postal_codes_dict[postal_code] = {}\n",
    "            \n",
    "            try:\n",
    "                neighborhoods = neighborhoods_data.split('(')[1]\n",
    "            \n",
    "                # remove parantheses from neighborhoods string\n",
    "                neighborhoods = neighborhoods.replace('(', ' ')\n",
    "                neighborhoods = neighborhoods.replace(')', ' ')\n",
    "\n",
    "                neighborhoods_names = neighborhoods.split('/')\n",
    "                neighborhoods_clean = ', '.join([name.strip() for name in neighborhoods_names])\n",
    "            except:\n",
    "                borough = borough.strip('\\n')\n",
    "                neighborhoods_clean = borough\n",
    " \n",
    "            # add borough and neighborhood to dictionary\n",
    "            postal_codes_dict[postal_code]['borough'] = borough\n",
    "            postal_codes_dict[postal_code]['neighborhoods'] = neighborhoods_clean\n",
    "    except:\n",
    "        pass\n",
    "    \n",
    "# create an empty dataframe\n",
    "columns = ['PostalCode', 'Borough', 'Neighborhood']\n",
    "toronto_data = pd.DataFrame(columns=columns)\n",
    "toronto_data\n",
    "\n",
    "# populate dataframe with data from dictionary\n",
    "for ind, postal_code in enumerate(postal_codes_dict):\n",
    "    borough = postal_codes_dict[postal_code]['borough']\n",
    "    neighborhood = postal_codes_dict[postal_code]['neighborhoods']\n",
    "    toronto_data = toronto_data.append({\"PostalCode\": postal_code, \n",
    "                                        \"Borough\": borough, \n",
    "                                        \"Neighborhood\": neighborhood},\n",
    "                                        ignore_index=True)\n",
    "\n",
    "# print number of rows of dataframe\n",
    "toronto_data.shape[0]"
   ]
  },
  {
   "cell_type": "code",
   "execution_count": 14,
   "metadata": {},
   "outputs": [
    {
     "data": {
      "text/html": [
       "<div>\n",
       "<style scoped>\n",
       "    .dataframe tbody tr th:only-of-type {\n",
       "        vertical-align: middle;\n",
       "    }\n",
       "\n",
       "    .dataframe tbody tr th {\n",
       "        vertical-align: top;\n",
       "    }\n",
       "\n",
       "    .dataframe thead th {\n",
       "        text-align: right;\n",
       "    }\n",
       "</style>\n",
       "<table border=\"1\" class=\"dataframe\">\n",
       "  <thead>\n",
       "    <tr style=\"text-align: right;\">\n",
       "      <th></th>\n",
       "      <th>PostalCode</th>\n",
       "      <th>Borough</th>\n",
       "      <th>Neighborhood</th>\n",
       "    </tr>\n",
       "  </thead>\n",
       "  <tbody>\n",
       "    <tr>\n",
       "      <th>0</th>\n",
       "      <td>M3A</td>\n",
       "      <td>North York</td>\n",
       "      <td>Parkwoods</td>\n",
       "    </tr>\n",
       "    <tr>\n",
       "      <th>1</th>\n",
       "      <td>M4A</td>\n",
       "      <td>North York</td>\n",
       "      <td>Victoria Village</td>\n",
       "    </tr>\n",
       "    <tr>\n",
       "      <th>2</th>\n",
       "      <td>M5A</td>\n",
       "      <td>Downtown Toronto</td>\n",
       "      <td>Regent Park, Harbourfront</td>\n",
       "    </tr>\n",
       "    <tr>\n",
       "      <th>3</th>\n",
       "      <td>M6A</td>\n",
       "      <td>North York</td>\n",
       "      <td>Lawrence Manor, Lawrence Heights</td>\n",
       "    </tr>\n",
       "    <tr>\n",
       "      <th>4</th>\n",
       "      <td>M7A</td>\n",
       "      <td>Queen's Park</td>\n",
       "      <td>Ontario Provincial Government</td>\n",
       "    </tr>\n",
       "    <tr>\n",
       "      <th>...</th>\n",
       "      <td>...</td>\n",
       "      <td>...</td>\n",
       "      <td>...</td>\n",
       "    </tr>\n",
       "    <tr>\n",
       "      <th>98</th>\n",
       "      <td>M8X</td>\n",
       "      <td>Etobicoke</td>\n",
       "      <td>The Kingsway, Montgomery Road, Old Mill North</td>\n",
       "    </tr>\n",
       "    <tr>\n",
       "      <th>99</th>\n",
       "      <td>M4Y</td>\n",
       "      <td>Downtown Toronto</td>\n",
       "      <td>Church and Wellesley</td>\n",
       "    </tr>\n",
       "    <tr>\n",
       "      <th>100</th>\n",
       "      <td>M7Y</td>\n",
       "      <td>East TorontoBusiness reply mail Processing Cen...</td>\n",
       "      <td>Enclave of M4L</td>\n",
       "    </tr>\n",
       "    <tr>\n",
       "      <th>101</th>\n",
       "      <td>M8Y</td>\n",
       "      <td>Etobicoke</td>\n",
       "      <td>Old Mill South, King's Mill Park, Sunnylea, Hu...</td>\n",
       "    </tr>\n",
       "    <tr>\n",
       "      <th>102</th>\n",
       "      <td>M8Z</td>\n",
       "      <td>Etobicoke</td>\n",
       "      <td>Mimico NW, The Queensway West, South of Bloor,...</td>\n",
       "    </tr>\n",
       "  </tbody>\n",
       "</table>\n",
       "<p>103 rows × 3 columns</p>\n",
       "</div>"
      ],
      "text/plain": [
       "    PostalCode                                            Borough  \\\n",
       "0          M3A                                         North York   \n",
       "1          M4A                                         North York   \n",
       "2          M5A                                   Downtown Toronto   \n",
       "3          M6A                                         North York   \n",
       "4          M7A                                       Queen's Park   \n",
       "..         ...                                                ...   \n",
       "98         M8X                                          Etobicoke   \n",
       "99         M4Y                                   Downtown Toronto   \n",
       "100        M7Y  East TorontoBusiness reply mail Processing Cen...   \n",
       "101        M8Y                                          Etobicoke   \n",
       "102        M8Z                                          Etobicoke   \n",
       "\n",
       "                                          Neighborhood  \n",
       "0                                            Parkwoods  \n",
       "1                                     Victoria Village  \n",
       "2                            Regent Park, Harbourfront  \n",
       "3                     Lawrence Manor, Lawrence Heights  \n",
       "4                        Ontario Provincial Government  \n",
       "..                                                 ...  \n",
       "98       The Kingsway, Montgomery Road, Old Mill North  \n",
       "99                                Church and Wellesley  \n",
       "100                                     Enclave of M4L  \n",
       "101  Old Mill South, King's Mill Park, Sunnylea, Hu...  \n",
       "102  Mimico NW, The Queensway West, South of Bloor,...  \n",
       "\n",
       "[103 rows x 3 columns]"
      ]
     },
     "execution_count": 14,
     "metadata": {},
     "output_type": "execute_result"
    }
   ],
   "source": [
    "toronto_data"
   ]
  },
  {
   "cell_type": "code",
   "execution_count": null,
   "metadata": {},
   "outputs": [],
   "source": [
    "postal_code = df['PostalCode'] #Extract Post from dataframe\n",
    "# geocode = RateLimiter(locator.geocode, min_delay_seconds=1)\n",
    "locator = pgo.Nominatim(\"CA\")\n",
    "ldf = pd.DataFrame(columns = ['Latitude','Longitude']) #Create a new Dataframe for Coordination\n",
    "# print(postal_code)\n",
    "\n",
    "#******* find coordinate for each post code *********\n",
    "for code in postal_code:\n",
    "    \n",
    "# initialize your variable to None\n",
    "    location = None\n",
    "\n",
    "# loop until you get the coordinates\n",
    "    print(code)\n",
    "    while(location is None or location is 'NaN'):\n",
    "       \n",
    "        location = locator.query_postal_code(\"{} Toronto Ontario\".format(code))\n",
    "        time.sleep(1)\n",
    "    #Record the respect co-ordinate of each post code to the new table\n",
    "    ldf = ldf.append({ \"Latitude\": location.latitude,\"Longitude\": location.longitude },ignore_index = True)\n",
    "    \n",
    "ldf"
   ]
  },
  {
   "cell_type": "code",
   "execution_count": 3,
   "metadata": {},
   "outputs": [
    {
     "name": "stdout",
     "output_type": "stream",
     "text": [
      "Your credentails:\n",
      "CLIENT_ID: OHWVZ5RQEZHRJG05XHQAJSIFKDP1KBQJ44TWKVDFVHQCV5SJ\n",
      "CLIENT_SECRET:HVUON3WUZKF22CDBOA4TIN2JBPELRIX2012MMJCDP2RC0U3B\n"
     ]
    }
   ],
   "source": []
  },
  {
   "cell_type": "code",
   "execution_count": null,
   "metadata": {},
   "outputs": [],
   "source": []
  },
  {
   "cell_type": "code",
   "execution_count": null,
   "metadata": {},
   "outputs": [],
   "source": []
  },
  {
   "cell_type": "code",
   "execution_count": null,
   "metadata": {},
   "outputs": [],
   "source": []
  },
  {
   "cell_type": "code",
   "execution_count": null,
   "metadata": {},
   "outputs": [],
   "source": []
  },
  {
   "cell_type": "code",
   "execution_count": null,
   "metadata": {},
   "outputs": [],
   "source": []
  },
  {
   "cell_type": "code",
   "execution_count": null,
   "metadata": {},
   "outputs": [],
   "source": []
  },
  {
   "cell_type": "code",
   "execution_count": null,
   "metadata": {},
   "outputs": [],
   "source": []
  },
  {
   "cell_type": "code",
   "execution_count": null,
   "metadata": {},
   "outputs": [],
   "source": []
  },
  {
   "cell_type": "code",
   "execution_count": null,
   "metadata": {},
   "outputs": [],
   "source": []
  },
  {
   "cell_type": "code",
   "execution_count": null,
   "metadata": {},
   "outputs": [],
   "source": []
  },
  {
   "cell_type": "code",
   "execution_count": null,
   "metadata": {},
   "outputs": [],
   "source": []
  },
  {
   "cell_type": "code",
   "execution_count": null,
   "metadata": {},
   "outputs": [],
   "source": []
  },
  {
   "cell_type": "code",
   "execution_count": null,
   "metadata": {},
   "outputs": [],
   "source": []
  },
  {
   "cell_type": "code",
   "execution_count": null,
   "metadata": {},
   "outputs": [],
   "source": []
  },
  {
   "cell_type": "code",
   "execution_count": null,
   "metadata": {},
   "outputs": [],
   "source": []
  }
 ],
 "metadata": {
  "kernelspec": {
   "display_name": "Python 3",
   "language": "python",
   "name": "python3"
  },
  "language_info": {
   "codemirror_mode": {
    "name": "ipython",
    "version": 3
   },
   "file_extension": ".py",
   "mimetype": "text/x-python",
   "name": "python",
   "nbconvert_exporter": "python",
   "pygments_lexer": "ipython3",
   "version": "3.6.13"
  }
 },
 "nbformat": 4,
 "nbformat_minor": 2
}
